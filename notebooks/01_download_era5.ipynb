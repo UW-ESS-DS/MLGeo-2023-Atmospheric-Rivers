{
 "cells": [
  {
   "cell_type": "code",
   "execution_count": 3,
   "metadata": {},
   "outputs": [],
   "source": [
    "import cdsapi"
   ]
  },
  {
   "cell_type": "markdown",
   "metadata": {},
   "source": [
    "### Download ERA5 reanalysis data on different pressure levels\n",
    "\n",
    "Here, we download data from 2014 to 2018 over the western US at four different pressure levels (1000, 900, 850, 700 hPa) for 3 different variables (wind speed, temperature, and total snow water content)"
   ]
  },
  {
   "cell_type": "markdown",
   "metadata": {},
   "source": [
    "Validation data also pulled from https://dataverse.ucla.edu/dataset.xhtml?persistentId=doi:10.25346/S6/MQRHJE"
   ]
  },
  {
   "cell_type": "code",
   "execution_count": 2,
   "metadata": {},
   "outputs": [
    {
     "name": "stderr",
     "output_type": "stream",
     "text": [
      "2023-11-05 21:45:33,668 INFO Welcome to the CDS\n",
      "2023-11-05 21:45:33,669 INFO Sending request to https://cds.climate.copernicus.eu/api/v2/resources/reanalysis-era5-pressure-levels\n",
      "2023-11-05 21:45:33,963 INFO Request is completed\n",
      "2023-11-05 21:45:33,967 INFO Downloading https://download-0009-clone.copernicus-climate.eu/cache-compute-0009/cache/data1/adaptor.mars.internal-1699241354.9921894-14195-8-80e60139-fb00-47ef-ba84-6f039a6ff945.nc to ../data/01_raw/era5_2014.nc (655M)\n",
      "2023-11-05 21:47:25,226 INFO Download rate 5.9M/s    \n",
      "2023-11-05 21:47:26,452 INFO Welcome to the CDS\n",
      "2023-11-05 21:47:26,453 INFO Sending request to https://cds.climate.copernicus.eu/api/v2/resources/reanalysis-era5-pressure-levels\n",
      "2023-11-05 21:47:26,687 INFO Request is queued\n",
      "2023-11-05 21:47:27,871 INFO Request is running\n",
      "2023-11-05 22:42:14,375 INFO Request is completed\n",
      "2023-11-05 22:42:14,391 INFO Downloading https://download-0012-clone.copernicus-climate.eu/cache-compute-0012/cache/data7/adaptor.mars.internal-1699252638.5954466-7705-9-00c9e294-61be-4087-b99a-b418b1b84757.nc to ../data/01_raw/era5_2015.nc (655M)\n",
      "2023-11-05 22:48:15,632 INFO Download rate 1.8M/s    \n",
      "2023-11-05 22:48:16,906 INFO Welcome to the CDS\n",
      "2023-11-05 22:48:16,907 INFO Sending request to https://cds.climate.copernicus.eu/api/v2/resources/reanalysis-era5-pressure-levels\n",
      "2023-11-05 22:48:17,266 INFO Request is queued\n",
      "2023-11-05 22:48:18,459 INFO Request is running\n",
      "2023-11-05 23:45:05,141 INFO Request is completed\n",
      "2023-11-05 23:45:05,156 INFO Downloading https://download-0014-clone.copernicus-climate.eu/cache-compute-0014/cache/data7/adaptor.mars.internal-1699256372.7170098-32569-11-cae93513-2154-4400-b61a-6cfc0b33a15e.nc to ../data/01_raw/era5_2016.nc (658.7M)\n",
      "2023-11-05 23:47:05,485 INFO Download rate 5.5M/s    \n",
      "2023-11-05 23:47:06,650 INFO Welcome to the CDS\n",
      "2023-11-05 23:47:06,650 INFO Sending request to https://cds.climate.copernicus.eu/api/v2/resources/reanalysis-era5-pressure-levels\n",
      "2023-11-05 23:47:06,989 INFO Request is queued\n",
      "2023-11-05 23:47:08,168 INFO Request is running\n",
      "2023-11-06 00:45:56,065 INFO Request is completed\n",
      "2023-11-06 00:45:56,066 INFO Downloading https://download-0010-clone.copernicus-climate.eu/cache-compute-0010/cache/data4/adaptor.mars.internal-1699260085.3020778-27810-15-0be98943-b8f3-4784-9411-1a7a24766107.nc to ../data/01_raw/era5_2017.nc (655M)\n",
      "2023-11-06 00:48:34,408 INFO Download rate 4.1M/s    \n",
      "2023-11-06 00:48:35,681 INFO Welcome to the CDS\n",
      "2023-11-06 00:48:35,682 INFO Sending request to https://cds.climate.copernicus.eu/api/v2/resources/reanalysis-era5-pressure-levels\n",
      "2023-11-06 00:48:35,979 INFO Request is queued\n",
      "2023-11-06 00:48:37,176 INFO Request is running\n",
      "2023-11-06 01:51:27,963 INFO Request is completed\n",
      "2023-11-06 01:51:27,966 INFO Downloading https://download-0007-clone.copernicus-climate.eu/cache-compute-0007/cache/data7/adaptor.mars.internal-1699263934.929533-29348-17-d8643ee9-d957-4e6c-8340-f18348c82430.nc to ../data/01_raw/era5_2018.nc (655M)\n",
      "2023-11-06 01:53:30,362 INFO Download rate 5.4M/s    \n"
     ]
    }
   ],
   "source": [
    "c = cdsapi.Client()\n",
    "years = [\"2014\",\"2015\",\"2016\",\"2017\",\"2018\"]\n",
    "for year in years:\n",
    "    c.retrieve(\n",
    "    'reanalysis-era5-pressure-levels',{\n",
    "    \"area\": [\n",
    "        55,\n",
    "        -135,\n",
    "        40,\n",
    "        -115\n",
    "    ],\n",
    "    \"day\": [\"01\",\"02\",\"03\",\"04\",\"05\",\"06\",\"07\",\"08\",\"09\",\n",
    "        \"10\",\"11\",\"12\",\"13\",\"14\",\"15\",\"16\",\"17\",\"18\",\"19\",\n",
    "        \"20\",\"21\",\"22\",\"23\",\"24\",\"25\",\"26\",\"27\",\"28\",\"29\",\"30\",\"31\"\n",
    "    ],\n",
    "    \"format\": \"netcdf\",\n",
    "    \"month\": [\n",
    "        \"01\",\"02\",\"03\",\"04\",\"11\",\"12\"\n",
    "    ],\n",
    "    \"pressure_level\": [\n",
    "        \"700\",\n",
    "        \"850\",\n",
    "        \"900\",\n",
    "        \"1000\"\n",
    "    ],\n",
    "    \"product_type\": \"reanalysis\",\n",
    "    \"time\": [\n",
    "        \"00:00\",\"01:00\",\"02:00\",\"03:00\",\"04:00\",\"05:00\",\n",
    "        \"06:00\",\"07:00\",\"08:00\",\"09:00\",\"10:00\",\"11:00\",\n",
    "        \"12:00\",\"13:00\",\"14:00\",\"15:00\",\"16:00\",\"17:00\",\n",
    "        \"18:00\",\"19:00\",\"20:00\",\"21:00\",\"22:00\",\"23:00\"\n",
    "    ],\n",
    "    \"variable\": [\n",
    "        \"specific_snow_water_content\",\n",
    "        \"temperature\",\n",
    "        \"u_component_of_wind\",\n",
    "        \"v_component_of_wind\"\n",
    "    ],\n",
    "    \"year\": year\n",
    "    }\n",
    "    , f'../data/01_raw/era5_{year}.nc'\n",
    "    )"
   ]
  },
  {
   "cell_type": "markdown",
   "metadata": {},
   "source": [
    "### Download ERA5 reanalysis data on one level\n",
    "\n",
    "Here, we download data from 2014 to 2018 over the western US at the U and V components of the total water vapor flux, which can be used to identify when atmospheric rivers occur and how strong they are"
   ]
  },
  {
   "cell_type": "code",
   "execution_count": 4,
   "metadata": {},
   "outputs": [
    {
     "name": "stderr",
     "output_type": "stream",
     "text": [
      "2023-11-13 11:50:53,249 INFO Welcome to the CDS\n",
      "2023-11-13 11:50:53,249 INFO Sending request to https://cds.climate.copernicus.eu/api/v2/resources/reanalysis-era5-single-levels\n",
      "2023-11-13 11:50:53,531 INFO Request is queued\n",
      "2023-11-13 11:50:54,720 INFO Request is running\n",
      "2023-11-13 13:15:46,573 INFO Request is completed\n",
      "2023-11-13 13:15:46,617 INFO Downloading https://download-0002-clone.copernicus-climate.eu/cache-compute-0002/cache/data3/adaptor.mars.internal-1699908516.6610289-8479-8-37fe536c-4941-46ac-9de3-c8cd691f0863.nc to ../data/01_raw/era5_ivt_2014-2018.nc (826.2M)\n",
      "2023-11-13 13:22:52,744 INFO Download rate 1.9M/s   \n"
     ]
    },
    {
     "data": {
      "text/plain": [
       "Result(content_length=866314800,content_type=application/x-netcdf,location=https://download-0002-clone.copernicus-climate.eu/cache-compute-0002/cache/data3/adaptor.mars.internal-1699908516.6610289-8479-8-37fe536c-4941-46ac-9de3-c8cd691f0863.nc)"
      ]
     },
     "execution_count": 4,
     "metadata": {},
     "output_type": "execute_result"
    }
   ],
   "source": [
    "c = cdsapi.Client()\n",
    "\n",
    "c.retrieve(\n",
    "    'reanalysis-era5-single-levels',\n",
    "    {\n",
    "        'product_type': 'reanalysis',\n",
    "        'format': 'netcdf',\n",
    "        'variable': [\n",
    "            'vertical_integral_of_eastward_water_vapour_flux', 'vertical_integral_of_northward_water_vapour_flux',\n",
    "        ],\n",
    "        'year': [\n",
    "            '2014', '2015', '2016',\n",
    "            '2017', '2018',\n",
    "        ],\n",
    "        'month': [\n",
    "            '01', '02', '03',\n",
    "            '04', '05', '06',\n",
    "            '07', '08', '09',\n",
    "            '10', '11', '12',\n",
    "        ],\n",
    "        'day': [\n",
    "            '01', '02', '03',\n",
    "            '04', '05', '06',\n",
    "            '07', '08', '09',\n",
    "            '10', '11', '12',\n",
    "            '13', '14', '15',\n",
    "            '16', '17', '18',\n",
    "            '19', '20', '21',\n",
    "            '22', '23', '24',\n",
    "            '25', '26', '27',\n",
    "            '28', '29', '30',\n",
    "            '31',\n",
    "        ],\n",
    "        'time': [\n",
    "            '00:00', '01:00', '02:00',\n",
    "            '03:00', '04:00', '05:00',\n",
    "            '06:00', '07:00', '08:00',\n",
    "            '09:00', '10:00', '11:00',\n",
    "            '12:00', '13:00', '14:00',\n",
    "            '15:00', '16:00', '17:00',\n",
    "            '18:00', '19:00', '20:00',\n",
    "            '21:00', '22:00', '23:00',\n",
    "        ],\n",
    "        'area': [\n",
    "            55, -135, 40,\n",
    "            -115,\n",
    "        ],\n",
    "    },\n",
    "    '../data/01_raw/era5_ivt_2014-2018.nc')"
   ]
  }
 ],
 "metadata": {
  "kernelspec": {
   "display_name": "radiative_transfer",
   "language": "python",
   "name": "python3"
  },
  "language_info": {
   "codemirror_mode": {
    "name": "ipython",
    "version": 3
   },
   "file_extension": ".py",
   "mimetype": "text/x-python",
   "name": "python",
   "nbconvert_exporter": "python",
   "pygments_lexer": "ipython3",
   "version": "3.9.13"
  }
 },
 "nbformat": 4,
 "nbformat_minor": 2
}
